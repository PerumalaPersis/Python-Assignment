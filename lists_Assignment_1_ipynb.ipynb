{
  "nbformat": 4,
  "nbformat_minor": 0,
  "metadata": {
    "colab": {
      "provenance": []
    },
    "kernelspec": {
      "name": "python3",
      "display_name": "Python 3"
    },
    "language_info": {
      "name": "python"
    }
  },
  "cells": [
    {
      "cell_type": "markdown",
      "source": [
        "1.Are lists mutable or immutable, explain with an example"
      ],
      "metadata": {
        "id": "Mxypr15V3U7e"
      }
    },
    {
      "cell_type": "code",
      "source": [
        "l1 = [1, 2, 3, 4]\n",
        "print(l1)\n",
        "l1[1] = 5\n",
        "print(l1)\n",
        "l1.append(7)\n",
        "print(l1)\n",
        "l1.pop(0)\n",
        "print(l1)"
      ],
      "metadata": {
        "id": "c_aTKXsT3p0P",
        "colab": {
          "base_uri": "https://localhost:8080/"
        },
        "outputId": "b2229377-a353-4b08-ff77-61c379c47d0c"
      },
      "execution_count": 5,
      "outputs": [
        {
          "output_type": "stream",
          "name": "stdout",
          "text": [
            "[1, 2, 3, 4]\n",
            "[1, 5, 3, 4]\n",
            "[1, 5, 3, 4, 7]\n",
            "[5, 3, 4, 7]\n"
          ]
        }
      ]
    },
    {
      "cell_type": "markdown",
      "source": [],
      "metadata": {
        "id": "Jd2G4J_c3tm7"
      }
    },
    {
      "cell_type": "markdown",
      "source": [
        "2.Take any example of list on your own and perform atleast 5 list operations on that"
      ],
      "metadata": {
        "id": "uPYH4kpZ3U97"
      }
    },
    {
      "cell_type": "code",
      "source": [
        "l = [1, 9, 15, 19, 20]\n",
        "print(l)\n",
        "l.insert(5, 7)\n",
        "print(l)\n",
        "l.remove(19)\n",
        "print(l)\n",
        "l.reverse()\n",
        "print(l)\n",
        "l.clear()\n",
        "print(l)"
      ],
      "metadata": {
        "id": "vSxe0pwG36ME",
        "colab": {
          "base_uri": "https://localhost:8080/"
        },
        "outputId": "a7efdcae-bc47-4bbc-df6c-5c3eb67a226b"
      },
      "execution_count": 4,
      "outputs": [
        {
          "output_type": "stream",
          "name": "stdout",
          "text": [
            "[1, 9, 15, 19, 20]\n",
            "[1, 9, 15, 19, 20, 7]\n",
            "[1, 9, 15, 20, 7]\n",
            "[7, 20, 15, 9, 1]\n",
            "[]\n"
          ]
        }
      ]
    },
    {
      "cell_type": "markdown",
      "source": [
        "3.Create a new list containing only the even numbers from the original list.\n",
        "\n",
        "original list ;[1,2,2,4,5,6,7,12,3,456,78,67,89,90]"
      ],
      "metadata": {
        "id": "1aSo9eEU3VAT"
      }
    },
    {
      "cell_type": "code",
      "source": [
        "l = [1,2,2,4,5,6,7,12,3,456,78,67,89,90]\n",
        "l1 = [number for number in l if number%2 == 0]\n",
        "print(l1)"
      ],
      "metadata": {
        "id": "e-_3vMX54Upe",
        "colab": {
          "base_uri": "https://localhost:8080/"
        },
        "outputId": "6d6502b9-0710-47f6-b476-e1be46512cb2"
      },
      "execution_count": 3,
      "outputs": [
        {
          "output_type": "stream",
          "name": "stdout",
          "text": [
            "[2, 2, 4, 6, 12, 456, 78, 90]\n"
          ]
        }
      ]
    },
    {
      "cell_type": "markdown",
      "source": [
        "4.Create a new list with the squares of each element in the original list.\n",
        "\n",
        "original list : [3,5,6,8,2,45]"
      ],
      "metadata": {
        "id": "y1b95q7k3VCz"
      }
    },
    {
      "cell_type": "code",
      "source": [
        "l = [3,5,6,8,2,45]\n",
        "l1=[number ** 2 for number in l]\n",
        "print(l1)"
      ],
      "metadata": {
        "id": "97M5xax24jM4",
        "colab": {
          "base_uri": "https://localhost:8080/"
        },
        "outputId": "1d02f562-7adf-425b-d8da-1e6ca1aab466"
      },
      "execution_count": 6,
      "outputs": [
        {
          "output_type": "stream",
          "name": "stdout",
          "text": [
            "[9, 25, 36, 64, 4, 2025]\n"
          ]
        }
      ]
    },
    {
      "cell_type": "markdown",
      "source": [
        "5.Check if all elements in the list are positive and return all the positive elements in a new list.\n",
        "\n",
        "input ; [12,23,4,56,77,-89,7,90,90,-87,-99]"
      ],
      "metadata": {
        "id": "pzrQ5WBZ3VFQ"
      }
    },
    {
      "cell_type": "code",
      "source": [
        "l = [12,23,4,56,77,-89,7,90,90,-87,-99]\n",
        "l1 = [ number for number in l if number > 0]\n",
        "print(l1)"
      ],
      "metadata": {
        "id": "8x0148io5FcT",
        "colab": {
          "base_uri": "https://localhost:8080/"
        },
        "outputId": "eb2a8b10-4c1a-4a29-97d8-aa33aa75f103"
      },
      "execution_count": 7,
      "outputs": [
        {
          "output_type": "stream",
          "name": "stdout",
          "text": [
            "[12, 23, 4, 56, 77, 7, 90, 90]\n"
          ]
        }
      ]
    }
  ]
}