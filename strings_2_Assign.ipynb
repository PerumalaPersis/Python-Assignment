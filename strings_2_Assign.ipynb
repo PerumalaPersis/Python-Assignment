{
  "cells": [
    {
      "cell_type": "markdown",
      "metadata": {
        "id": "EPGLodluvWuN"
      },
      "source": [
        "## Strings Assignment 2"
      ]
    },
    {
      "cell_type": "markdown",
      "metadata": {
        "id": "ddM5gMtivkoi"
      },
      "source": [
        "1.Write a Python program to reverse a string.\n",
        "\n",
        "input : hellohowareyoudoingandhowisyourhealth"
      ]
    },
    {
      "cell_type": "code",
      "execution_count": 3,
      "metadata": {
        "id": "RnP576ZZvtLH",
        "colab": {
          "base_uri": "https://localhost:8080/"
        },
        "outputId": "00e54e7e-131c-4741-bf13-b8b8a2399583"
      },
      "outputs": [
        {
          "output_type": "stream",
          "name": "stdout",
          "text": [
            "htlaehruoysiwohdnaggnioduoyerawoholleh\n"
          ]
        }
      ],
      "source": [
        "string=\"hellohowareyoudoinggandhowisyourhealth\"\n",
        "print(string[::-1])\n"
      ]
    },
    {
      "cell_type": "markdown",
      "metadata": {
        "id": "jEVFoo3evnhr"
      },
      "source": [
        "2.Write a Python program to capitalize the first letter of each word in a sentence.\n",
        "\n",
        "input : hello welcome to internship"
      ]
    },
    {
      "cell_type": "code",
      "execution_count": 4,
      "metadata": {
        "id": "CTP3QwiGwT93",
        "colab": {
          "base_uri": "https://localhost:8080/"
        },
        "outputId": "10c24152-e239-4673-eb91-d032336ebc48"
      },
      "outputs": [
        {
          "output_type": "stream",
          "name": "stdout",
          "text": [
            "Hello Welcome To Internship\n"
          ]
        }
      ],
      "source": [
        "s1=\"hello welcome to internship\"\n",
        "s2=s1.title()\n",
        "print(s2)\n"
      ]
    },
    {
      "cell_type": "markdown",
      "source": [],
      "metadata": {
        "id": "3891fGRNEYZu"
      }
    },
    {
      "cell_type": "markdown",
      "metadata": {
        "id": "LiGvyCoVvnyC"
      },
      "source": [
        "3.Write a Python program to find the longest word in a sentence.\n",
        "\n",
        "input : \"he is very good at painting and paint good sketches\""
      ]
    },
    {
      "cell_type": "code",
      "execution_count": 5,
      "metadata": {
        "id": "clATuC3cwwPI",
        "colab": {
          "base_uri": "https://localhost:8080/"
        },
        "outputId": "cb69c855-a247-4610-a459-c0cf164d7f23"
      },
      "outputs": [
        {
          "output_type": "stream",
          "name": "stdout",
          "text": [
            "painting\n"
          ]
        }
      ],
      "source": [
        "s=\"he is very good at painting and paint good sketches\"\n",
        "words=s.split()\n",
        "res=max(words, key=len)\n",
        "print(res)"
      ]
    },
    {
      "cell_type": "markdown",
      "metadata": {
        "id": "-QhCplQjvn0w"
      },
      "source": [
        "4.Write a Python program to find the length of the last word in a sentence.\n",
        "\n",
        "input : this is the most beautiful beach I ever visited"
      ]
    },
    {
      "cell_type": "code",
      "execution_count": 6,
      "metadata": {
        "id": "QwzbahlkxGZ-",
        "colab": {
          "base_uri": "https://localhost:8080/"
        },
        "outputId": "bf271a3e-ced1-4a88-95a5-1e673efe0255"
      },
      "outputs": [
        {
          "output_type": "stream",
          "name": "stdout",
          "text": [
            "7\n"
          ]
        }
      ],
      "source": [
        "def length_of_last_word(s):\n",
        "    try:\n",
        "        return len(s.strip().split()[-1])\n",
        "    except IndexError:\n",
        "        return 0\n",
        "print(length_of_last_word(\"this is the most beautiful beach I ever visited\"))"
      ]
    },
    {
      "cell_type": "markdown",
      "metadata": {
        "id": "cZiXxZhsvn6q"
      },
      "source": [
        "5.Write a Python program to find the second most frequent character in a string.\n",
        "\n",
        "input: the hospital is very big and this hospital has so many doctors"
      ]
    },
    {
      "cell_type": "code",
      "execution_count": 7,
      "metadata": {
        "id": "EnHquuoCxi7F",
        "colab": {
          "base_uri": "https://localhost:8080/"
        },
        "outputId": "688da7f0-eeef-4546-b453-04da8850fb0b"
      },
      "outputs": [
        {
          "output_type": "stream",
          "name": "stdout",
          "text": [
            "s\n"
          ]
        }
      ],
      "source": [
        "input = \"the hospital is very big and this hospital has so many doctors\"\n",
        "from collections import Counter\n",
        "char_counts = Counter(input)\n",
        "sorted_chars = sorted(char_counts.items(), key=lambda item: item[1], reverse=True)\n",
        "for char, count in sorted_chars:\n",
        "    if char != ' ':\n",
        "        second_frequent = char\n",
        "        break\n",
        "print(second_frequent)"
      ]
    }
  ],
  "metadata": {
    "colab": {
      "provenance": [],
      "toc_visible": true
    },
    "kernelspec": {
      "display_name": "Python 3",
      "name": "python3"
    },
    "language_info": {
      "name": "python"
    }
  },
  "nbformat": 4,
  "nbformat_minor": 0
}