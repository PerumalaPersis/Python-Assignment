{
  "cells": [
    {
      "cell_type": "markdown",
      "metadata": {
        "id": "LntIlHO5OfPf"
      },
      "source": [
        "*** USE THE CONCEPT OF LOOPS TO SOLVE THE BELOW PROGRAMS***"
      ]
    },
    {
      "cell_type": "markdown",
      "metadata": {
        "id": "vxHfbNtoOfRV"
      },
      "source": [
        "1) Python program to count the total number of digits in a number.\n",
        "\n",
        "TAKE THE INPUT NUMBER : 123456\n",
        "\n",
        "\n",
        "\n"
      ]
    },
    {
      "cell_type": "code",
      "execution_count": 1,
      "metadata": {
        "id": "_PKg5umLO2-q"
      },
      "outputs": [
        {
          "name": "stdout",
          "output_type": "stream",
          "text": [
            "6\n"
          ]
        }
      ],
      "source": [
        "num = 123456\n",
        "print(len(str(num)))"
      ]
    },
    {
      "cell_type": "markdown",
      "metadata": {
        "id": "bXf8Z8feOfTn"
      },
      "source": [
        "2) Python program to count the number of even and odd numbers from a series of numbers.\n",
        "\n",
        "num_list = [1,3,5,6,99,134,55]"
      ]
    },
    {
      "cell_type": "code",
      "execution_count": 7,
      "metadata": {
        "id": "QzZjjwRCPIip"
      },
      "outputs": [
        {
          "name": "stdout",
          "output_type": "stream",
          "text": [
            "Even numbers: 2\n",
            "Odd numbers: 5\n"
          ]
        }
      ],
      "source": [
        "num_list = [1,3,5,6,99,134,55]\n",
        "even = 0\n",
        "odd = 0\n",
        "for num in num_list:\n",
        "    if num % 2 == 0:  \n",
        "        even += 1\n",
        "    else:  \n",
        "        odd += 1\n",
        "print(\"Even numbers:\", even)\n",
        "print(\"Odd numbers:\", odd)"
      ]
    },
    {
      "cell_type": "markdown",
      "metadata": {
        "id": "Ae6CdE7hOfWZ"
      },
      "source": [
        "3) Python program to get the Fibonacci series between 0 to 50."
      ]
    },
    {
      "cell_type": "code",
      "execution_count": 8,
      "metadata": {
        "id": "_IIZYCLPPTwI"
      },
      "outputs": [
        {
          "name": "stdout",
          "output_type": "stream",
          "text": [
            "1\n",
            "1\n",
            "2\n",
            "3\n",
            "5\n",
            "8\n",
            "13\n",
            "21\n",
            "34\n"
          ]
        }
      ],
      "source": [
        "x, y = 0, 1\n",
        "while y < 50:\n",
        "    print(y)\n",
        "    x, y = y, x + y"
      ]
    },
    {
      "cell_type": "markdown",
      "metadata": {
        "id": "VYbquVMROfZz"
      },
      "source": [
        "4) Python program that accepts a string and calculates the number of digits and letters.\n",
        "\n",
        "Input\n",
        "\n",
        "WEBBLINDERS1234"
      ]
    },
    {
      "cell_type": "code",
      "execution_count": 10,
      "metadata": {
        "id": "iGYeja7XPop3"
      },
      "outputs": [
        {
          "name": "stdout",
          "output_type": "stream",
          "text": [
            "Letters: 11\n",
            "Digits: 4\n"
          ]
        }
      ],
      "source": [
        "s = \"WEBBLINDERS1234\"\n",
        "lc = 0\n",
        "dc = 0\n",
        "for char in s:\n",
        "    if char.isalpha():  \n",
        "        lc += 1\n",
        "    elif char.isdigit(): \n",
        "        dc += 1\n",
        "print(f\"Letters: {lc}\")\n",
        "print(f\"Digits: {dc}\")"
      ]
    },
    {
      "cell_type": "markdown",
      "metadata": {
        "id": "RiVenPeDPqs_"
      },
      "source": [
        "5) Python program to display all numbers within a range except the prime numbers.\n",
        "\n",
        "INPUT RANGE : 30 TO 80"
      ]
    },
    {
      "cell_type": "code",
      "execution_count": null,
      "metadata": {
        "id": "UTm21ayAPX02"
      },
      "outputs": [
        {
          "name": "stdout",
          "output_type": "stream",
          "text": [
            "30 32 33 34 35 36 38 39 40 42 44 45 46 48 49 50 51 52 54 55 56 57 58 60 62 63 64 65 66 68 69 70 72 74 75 76 77 78 80 \n"
          ]
        }
      ],
      "source": [
        "def is_not_prime(n):\n",
        "  if n <= 1:\n",
        "    return True\n",
        "  for i in range(2, int(n**0.5) + 1):\n",
        "    if n % i == 0:\n",
        "      return True\n",
        "  return False\n",
        "def print_non_primes(start, end):\n",
        "  for num in range(start, end + 1):\n",
        "    if is_not_prime(num):\n",
        "      print(num, end=\" \")\n",
        "  print()\n",
        "print_non_primes(30, 80)"
      ]
    }
  ],
  "metadata": {
    "colab": {
      "provenance": []
    },
    "kernelspec": {
      "display_name": "base",
      "language": "python",
      "name": "python3"
    },
    "language_info": {
      "codemirror_mode": {
        "name": "ipython",
        "version": 3
      },
      "file_extension": ".py",
      "mimetype": "text/x-python",
      "name": "python",
      "nbconvert_exporter": "python",
      "pygments_lexer": "ipython3",
      "version": "3.12.7"
    }
  },
  "nbformat": 4,
  "nbformat_minor": 0
}
